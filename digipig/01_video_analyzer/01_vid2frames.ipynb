{
 "cells": [
  {
   "cell_type": "code",
   "execution_count": 5,
   "metadata": {},
   "outputs": [
    {
     "name": "stdout",
     "output_type": "stream",
     "text": [
      "broke\n",
      "did break:  True\n",
      "num frames:  1001\n"
     ]
    }
   ],
   "source": [
    "#make sure all folders exist before executing ( empty temp and output folders for old files)\n",
    "#check all input names\n",
    "#check video length\n",
    "#basicly check everything...\n",
    "\n",
    "import cv2\n",
    "\n",
    "seconds = 100 #video is short\n",
    "fps = 30 #vaire\n",
    "vidcap = cv2.VideoCapture('./01_input/01_video/Cam2.20170919_134657.mp4')#('./01_input/01_video/Cam5.20181106_133517.mp4')#('./01_input/01_video/Grisehale.mp4')\n",
    "success,image = vidcap.read()\n",
    "count = 1000 #start at 1000 for consistent namning of frames\n",
    "broke = False\n",
    "\n",
    "while success:\n",
    "    cv2.imwrite(\"./02_temp/frames/frame%d.jpg\" % count, image)     # save frame as JPEG file\n",
    "    success,image = vidcap.read()\n",
    "    #print('Read a new frame: ', success)\n",
    "    count += 1\n",
    "    if count>(seconds*10+1000):\n",
    "        print(\"broke\")\n",
    "        broke=True\n",
    "        break\n",
    "print(\"did break: \", broke)\n",
    "print(\"num frames: \", count-1000)\n",
    "    "
   ]
  },
  {
   "cell_type": "code",
   "execution_count": 5,
   "metadata": {},
   "outputs": [
    {
     "data": {
      "text/plain": [
       "'/home/blaise/code/grisehale_nmbu/src/01_video_analyzer'"
      ]
     },
     "execution_count": 5,
     "metadata": {},
     "output_type": "execute_result"
    }
   ],
   "source": []
  },
  {
   "cell_type": "code",
   "execution_count": null,
   "metadata": {},
   "outputs": [],
   "source": []
  }
 ],
 "metadata": {
  "kernelspec": {
   "display_name": "Python 3",
   "language": "python",
   "name": "python3"
  },
  "language_info": {
   "codemirror_mode": {
    "name": "ipython",
    "version": 3
   },
   "file_extension": ".py",
   "mimetype": "text/x-python",
   "name": "python",
   "nbconvert_exporter": "python",
   "pygments_lexer": "ipython3",
   "version": "3.7.3"
  }
 },
 "nbformat": 4,
 "nbformat_minor": 2
}
